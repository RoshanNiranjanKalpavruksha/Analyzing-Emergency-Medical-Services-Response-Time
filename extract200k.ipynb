{
 "cells": [
  {
   "cell_type": "code",
   "execution_count": 1,
   "metadata": {},
   "outputs": [],
   "source": [
    "import pandas as pd"
   ]
  },
  {
   "cell_type": "code",
   "execution_count": 2,
   "metadata": {},
   "outputs": [],
   "source": [
    "df = pd.read_csv(\"data.csv\")"
   ]
  },
  {
   "cell_type": "code",
   "execution_count": 3,
   "metadata": {},
   "outputs": [],
   "source": [
    "df_200k = df[:200000]"
   ]
  },
  {
   "cell_type": "code",
   "execution_count": 5,
   "metadata": {},
   "outputs": [
    {
     "data": {
      "text/plain": [
       "(200000, 31)"
      ]
     },
     "execution_count": 5,
     "metadata": {},
     "output_type": "execute_result"
    }
   ],
   "source": [
    "df_200k.shape"
   ]
  },
  {
   "cell_type": "code",
   "execution_count": 7,
   "metadata": {},
   "outputs": [],
   "source": [
    "df_1M = df[:1000000]"
   ]
  },
  {
   "cell_type": "code",
   "execution_count": 8,
   "metadata": {},
   "outputs": [],
   "source": [
    "df_2M = df[:2000000]"
   ]
  },
  {
   "cell_type": "code",
   "execution_count": 10,
   "metadata": {},
   "outputs": [],
   "source": [
    "df_10M = df[:10000000]"
   ]
  },
  {
   "cell_type": "code",
   "execution_count": 11,
   "metadata": {},
   "outputs": [],
   "source": [
    "df_200k.to_csv(\"data200k.csv\")"
   ]
  },
  {
   "cell_type": "code",
   "execution_count": 12,
   "metadata": {},
   "outputs": [],
   "source": [
    "df_1M.to_csv(\"data1M.csv\")"
   ]
  },
  {
   "cell_type": "code",
   "execution_count": 13,
   "metadata": {},
   "outputs": [],
   "source": [
    "df_2M.to_csv(\"data2M.csv\")"
   ]
  },
  {
   "cell_type": "code",
   "execution_count": 14,
   "metadata": {},
   "outputs": [],
   "source": [
    "df_10M.to_csv(\"data10M.csv\")"
   ]
  },
  {
   "cell_type": "code",
   "execution_count": 17,
   "metadata": {},
   "outputs": [
    {
     "data": {
      "text/plain": [
       "CAD_INCIDENT_ID                        0\n",
       "INCIDENT_DATETIME                      0\n",
       "INITIAL_CALL_TYPE                      0\n",
       "INITIAL_SEVERITY_LEVEL_CODE            0\n",
       "FINAL_CALL_TYPE                        0\n",
       "FINAL_SEVERITY_LEVEL_CODE              0\n",
       "FIRST_ASSIGNMENT_DATETIME          13634\n",
       "VALID_DISPATCH_RSPNS_TIME_INDC         0\n",
       "DISPATCH_RESPONSE_SECONDS_QY           0\n",
       "FIRST_ACTIVATION_DATETIME          21502\n",
       "FIRST_ON_SCENE_DATETIME            61696\n",
       "VALID_INCIDENT_RSPNS_TIME_INDC         0\n",
       "INCIDENT_RESPONSE_SECONDS_QY       61926\n",
       "INCIDENT_TRAVEL_TM_SECONDS_QY      61711\n",
       "FIRST_TO_HOSP_DATETIME            297204\n",
       "FIRST_HOSP_ARRIVAL_DATETIME       321396\n",
       "INCIDENT_CLOSE_DATETIME              306\n",
       "HELD_INDICATOR                         0\n",
       "INCIDENT_DISPOSITION_CODE              3\n",
       "BOROUGH                                0\n",
       "INCIDENT_DISPATCH_AREA                 0\n",
       "ZIPCODE                            38589\n",
       "POLICEPRECINCT                     38539\n",
       "CITYCOUNCILDISTRICT                38539\n",
       "COMMUNITYDISTRICT                  38551\n",
       "COMMUNITYSCHOOLDISTRICT            38690\n",
       "CONGRESSIONALDISTRICT              38539\n",
       "REOPEN_INDICATOR                       0\n",
       "SPECIAL_EVENT_INDICATOR                0\n",
       "STANDBY_INDICATOR                      0\n",
       "TRANSFER_INDICATOR                     0\n",
       "dtype: int64"
      ]
     },
     "execution_count": 17,
     "metadata": {},
     "output_type": "execute_result"
    }
   ],
   "source": [
    "df_1M.isna().sum()"
   ]
  },
  {
   "cell_type": "code",
   "execution_count": 18,
   "metadata": {},
   "outputs": [],
   "source": [
    "df = df_200k.dropna()"
   ]
  },
  {
   "cell_type": "code",
   "execution_count": 20,
   "metadata": {},
   "outputs": [],
   "source": [
    "df_200k_cleaned = df"
   ]
  },
  {
   "cell_type": "code",
   "execution_count": 21,
   "metadata": {},
   "outputs": [],
   "source": [
    "df_200k_cleaned.to_csv(\"data200kcleaned.csv\")"
   ]
  },
  {
   "cell_type": "code",
   "execution_count": null,
   "metadata": {},
   "outputs": [],
   "source": []
  }
 ],
 "metadata": {
  "kernelspec": {
   "display_name": "venv",
   "language": "python",
   "name": "python3"
  },
  "language_info": {
   "codemirror_mode": {
    "name": "ipython",
    "version": 3
   },
   "file_extension": ".py",
   "mimetype": "text/x-python",
   "name": "python",
   "nbconvert_exporter": "python",
   "pygments_lexer": "ipython3",
   "version": "3.12.1"
  }
 },
 "nbformat": 4,
 "nbformat_minor": 2
}
